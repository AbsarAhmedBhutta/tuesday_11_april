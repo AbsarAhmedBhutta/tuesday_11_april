{
 "cells": [
  {
   "cell_type": "code",
   "execution_count": 1,
   "metadata": {
    "executionInfo": {
     "elapsed": 6674,
     "status": "ok",
     "timestamp": 1681192956205,
     "user": {
      "displayName": "Ali Hassan",
      "userId": "02540759748467052631"
     },
     "user_tz": -300
    },
    "id": "AS58lCGG4xji"
   },
   "outputs": [],
   "source": [
    "# example making new class predictions for a classification problem\n",
    "from keras.models import Sequential\n",
    "from keras.layers import Dense\n",
    "from sklearn.datasets import make_blobs\n",
    "from sklearn.preprocessing import MinMaxScaler"
   ]
  },
  {
   "cell_type": "code",
   "execution_count": 2,
   "metadata": {
    "executionInfo": {
     "elapsed": 692,
     "status": "ok",
     "timestamp": 1681192960200,
     "user": {
      "displayName": "Ali Hassan",
      "userId": "02540759748467052631"
     },
     "user_tz": -300
    },
    "id": "B7L_osad42O-"
   },
   "outputs": [],
   "source": [
    "# generate 2d classification dataset\n",
    "X, y = make_blobs(n_samples=100, centers=2, n_features=2, random_state=1)\n",
    "scalar = MinMaxScaler()\n",
    "scalar.fit(X)\n",
    "X = scalar.transform(X)"
   ]
  },
  {
   "cell_type": "code",
   "execution_count": 3,
   "metadata": {
    "colab": {
     "base_uri": "https://localhost:8080/"
    },
    "executionInfo": {
     "elapsed": 6239,
     "status": "ok",
     "timestamp": 1681192976589,
     "user": {
      "displayName": "Ali Hassan",
      "userId": "02540759748467052631"
     },
     "user_tz": -300
    },
    "id": "cjqvpQbW45C7",
    "outputId": "b9ea2c0b-4cc4-49c5-a6bd-e4ce9374ccf7"
   },
   "outputs": [
    {
     "data": {
      "text/plain": [
       "<keras.callbacks.History at 0x7f2ff54e0070>"
      ]
     },
     "execution_count": 3,
     "metadata": {},
     "output_type": "execute_result"
    }
   ],
   "source": [
    "# define and fit the final model\n",
    "model = Sequential()\n",
    "model.add(Dense(4, input_shape=(2,), activation='relu'))\n",
    "model.add(Dense(4, activation='relu'))\n",
    "model.add(Dense(1, activation='sigmoid'))\n",
    "model.compile(loss='binary_crossentropy', optimizer='adam')\n",
    "model.fit(X, y, epochs=500, verbose=0)"
   ]
  },
  {
   "cell_type": "code",
   "execution_count": 5,
   "metadata": {
    "colab": {
     "base_uri": "https://localhost:8080/"
    },
    "executionInfo": {
     "elapsed": 601,
     "status": "ok",
     "timestamp": 1681193165518,
     "user": {
      "displayName": "Ali Hassan",
      "userId": "02540759748467052631"
     },
     "user_tz": -300
    },
    "id": "E4G-iPi23m2S",
    "outputId": "f5809438-4e35-4b82-89b3-021343f36a3e"
   },
   "outputs": [
    {
     "name": "stdout",
     "output_type": "stream",
     "text": [
      "1/1 [==============================] - 0s 244ms/step\n",
      "X=[0.89337759 0.65864154], Predicted=0\n",
      "X=[0.29097707 0.12978982], Predicted=0\n",
      "X=[0.78082614 0.75391697], Predicted=0\n"
     ]
    }
   ],
   "source": [
    "import numpy as np\n",
    "# new instances where we do not know the answer\n",
    "Xnew, _ = make_blobs(n_samples=3, centers=2, n_features=2, random_state=1)\n",
    "Xnew = scalar.transform(Xnew)\n",
    "# make a prediction\n",
    "# ynew = model.predict_classes(Xnew)\n",
    "predict_x=model.predict(Xnew) \n",
    "ynew=np.argmax(predict_x,axis=1)\n",
    "\n",
    "# show the inputs and predicted outputs\n",
    "for i in range(len(Xnew)):\n",
    "\tprint(\"X=%s, Predicted=%s\" % (Xnew[i], ynew[i]))"
   ]
  },
  {
   "cell_type": "markdown",
   "metadata": {
    "id": "RYKuRhyN98Kk"
   },
   "source": [
    "## **Regression Predictions**\n"
   ]
  },
  {
   "cell_type": "code",
   "execution_count": 6,
   "metadata": {
    "executionInfo": {
     "elapsed": 823,
     "status": "ok",
     "timestamp": 1681194061276,
     "user": {
      "displayName": "Ali Hassan",
      "userId": "02540759748467052631"
     },
     "user_tz": -300
    },
    "id": "zs6phL0j-Knz"
   },
   "outputs": [],
   "source": [
    "from sklearn.datasets import make_regression"
   ]
  },
  {
   "cell_type": "code",
   "execution_count": 7,
   "metadata": {
    "executionInfo": {
     "elapsed": 5,
     "status": "ok",
     "timestamp": 1681194064787,
     "user": {
      "displayName": "Ali Hassan",
      "userId": "02540759748467052631"
     },
     "user_tz": -300
    },
    "id": "cn8_3AYI-Lhp"
   },
   "outputs": [],
   "source": [
    "# generate regression dataset\n",
    "X, y = make_regression(n_samples=100, n_features=2, noise=0.1, random_state=1)\n",
    "scalarX, scalarY = MinMaxScaler(), MinMaxScaler()\n",
    "scalarX.fit(X)\n",
    "scalarY.fit(y.reshape(100,1))\n",
    "X = scalarX.transform(X)\n",
    "y = scalarY.transform(y.reshape(100,1))"
   ]
  },
  {
   "cell_type": "code",
   "execution_count": 8,
   "metadata": {
    "colab": {
     "base_uri": "https://localhost:8080/"
    },
    "executionInfo": {
     "elapsed": 11784,
     "status": "ok",
     "timestamp": 1681194081748,
     "user": {
      "displayName": "Ali Hassan",
      "userId": "02540759748467052631"
     },
     "user_tz": -300
    },
    "id": "zTNc5Bil-MS1",
    "outputId": "003ee401-fd3a-4819-845c-a2775b70111c"
   },
   "outputs": [
    {
     "data": {
      "text/plain": [
       "<keras.callbacks.History at 0x7f2feedbef70>"
      ]
     },
     "execution_count": 8,
     "metadata": {},
     "output_type": "execute_result"
    }
   ],
   "source": [
    "# define and fit the final model\n",
    "model = Sequential()\n",
    "model.add(Dense(4, input_shape=(2,), activation='relu'))\n",
    "model.add(Dense(4, activation='relu'))\n",
    "model.add(Dense(1, activation='linear'))\n",
    "model.compile(loss='mse', optimizer='adam')\n",
    "model.fit(X, y, epochs=1000, verbose=0)"
   ]
  },
  {
   "cell_type": "code",
   "execution_count": 9,
   "metadata": {
    "colab": {
     "base_uri": "https://localhost:8080/"
    },
    "executionInfo": {
     "elapsed": 806,
     "status": "ok",
     "timestamp": 1681194086564,
     "user": {
      "displayName": "Ali Hassan",
      "userId": "02540759748467052631"
     },
     "user_tz": -300
    },
    "id": "bjkuFdC7-F7K",
    "outputId": "08ae17cc-1e84-4b44-8691-aa0361c7dcc4"
   },
   "outputs": [
    {
     "name": "stdout",
     "output_type": "stream",
     "text": [
      "1/1 [==============================] - 0s 60ms/step\n",
      "X=[0.29466096 0.30317302], Predicted=[0.173618]\n",
      "X=[0.39445118 0.79390858], Predicted=[0.7451402]\n",
      "X=[0.02884127 0.6208843 ], Predicted=[0.4032906]\n"
     ]
    }
   ],
   "source": [
    "# new instances where we do not know the answer\n",
    "Xnew, a = make_regression(n_samples=3, n_features=2, noise=0.1, random_state=1)\n",
    "Xnew = scalarX.transform(Xnew)\n",
    "# make a prediction\n",
    "ynew = model.predict(Xnew)\n",
    "# show the inputs and predicted outputs\n",
    "for i in range(len(Xnew)):\n",
    "\tprint(\"X=%s, Predicted=%s\" % (Xnew[i], ynew[i]))"
   ]
  }
 ],
 "metadata": {
  "colab": {
   "authorship_tag": "ABX9TyOpuTZmN9PfQKfL9kBMmSJM",
   "provenance": []
  },
  "kernelspec": {
   "display_name": "Python 3 (ipykernel)",
   "language": "python",
   "name": "python3"
  },
  "language_info": {
   "codemirror_mode": {
    "name": "ipython",
    "version": 3
   },
   "file_extension": ".py",
   "mimetype": "text/x-python",
   "name": "python",
   "nbconvert_exporter": "python",
   "pygments_lexer": "ipython3",
   "version": "3.9.13"
  }
 },
 "nbformat": 4,
 "nbformat_minor": 1
}
